{
 "cells": [
  {
   "cell_type": "code",
   "execution_count": null,
   "id": "ccfd7ab4",
   "metadata": {},
   "outputs": [],
   "source": [
    "import csv\n",
    "import codecs\n",
    "import pandas as pd\n",
    "from os import walk\n",
    "import re\n",
    "import os\n",
    "import pprint\n",
    "import datetime\n",
    "import numpy as np\n",
    "import matplotlib.pyplot as plt"
   ]
  },
  {
   "cell_type": "code",
   "execution_count": null,
   "id": "8659577c",
   "metadata": {},
   "outputs": [],
   "source": [
    "current_path = os.getcwd().replace(\"\\\\\", \"/\") + \"/\"\n",
    "\n",
    "\n",
    "df = pd.DataFrame(columns=['user', 'username', 'posts', 'followers', 'followings', 'description', 'img', 'caption', 'likes', 'comments'\n",
    "])\n",
    "count = 0\n",
    "df_list = []\n",
    "walk_path = current_path + \"insta/\"\n",
    "for (dirpath, dirnames, filenames) in walk(walk_path):\n",
    "    path = dirpath.replace(\"\\\\\", \"/\").split(\"/\")\n",
    "    if '' in path:\n",
    "        path.remove('')\n",
    "    if path is not None and len(path)>7:\n",
    "        folder = path[7]\n",
    "        if folder == '.git':\n",
    "            continue\n",
    "        posts = walk_path + folder + '/posts.csv'\n",
    "        posts_df = pd.read_csv(posts,sep = ',')\n",
    "        user = walk_path + folder + '/user.csv'\n",
    "        user_df = pd.read_csv(user,sep = ',')\n",
    "\n",
    "        if len(posts_df) !=  0:\n",
    "            posts_df.loc[0:, \"posts\"] = user_df[\"posts\"].values[0]\n",
    "            posts_df.loc[0:, \"followers\"] = user_df[\"followers\"].values[0]\n",
    "            posts_df.loc[0:, \"followings\"] = user_df[\"followings\"].values[0]\n",
    "            posts_df.loc[0:, \"description\"] = user_df[\"description\"].values[0]\n",
    "            posts_df.loc[0:, \"username\"] = user_df[\"username\"].values[0]\n",
    "        posts_df.head()\n",
    "        df_list.append(posts_df)\n",
    "df_big = pd.concat(df_list)"
   ]
  },
  {
   "cell_type": "code",
   "execution_count": null,
   "id": "b967bf79",
   "metadata": {},
   "outputs": [],
   "source": [
    "df_big.to_csv(current_path+'/dataset.csv')"
   ]
  }
 ],
 "metadata": {
  "kernelspec": {
   "display_name": "Python 3 (ipykernel)",
   "language": "python",
   "name": "python3"
  },
  "language_info": {
   "codemirror_mode": {
    "name": "ipython",
    "version": 3
   },
   "file_extension": ".py",
   "mimetype": "text/x-python",
   "name": "python",
   "nbconvert_exporter": "python",
   "pygments_lexer": "ipython3",
   "version": "3.9.7"
  }
 },
 "nbformat": 4,
 "nbformat_minor": 5
}
