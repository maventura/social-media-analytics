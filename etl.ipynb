{
 "cells": [
  {
   "cell_type": "code",
   "execution_count": 6,
   "id": "ccfd7ab4",
   "metadata": {},
   "outputs": [],
   "source": [
    "import csv\n",
    "import codecs\n",
    "import pandas as pd\n",
    "from os import walk\n",
    "import re\n",
    "import os\n",
    "import pprint\n",
    "import datetime\n",
    "import numpy as np\n",
    "import matplotlib.pyplot as plt\n",
    "import emoji\n"
   ]
  },
  {
   "cell_type": "code",
   "execution_count": 7,
   "id": "8659577c",
   "metadata": {},
   "outputs": [],
   "source": [
    "current_path = os.getcwd().replace(\"\\\\\", \"/\") + \"/\"\n",
    "\n",
    "\n",
    "df = pd.DataFrame(columns=['user', 'username', 'posts', 'followers', 'followings', 'description', 'img', 'caption', 'likes', 'comments'\n",
    "])\n",
    "count = 0\n",
    "df_list = []\n",
    "walk_path = current_path + \"insta/\"\n",
    "for (dirpath, dirnames, filenames) in walk(walk_path):\n",
    "    path = dirpath.replace(\"\\\\\", \"/\").split(\"/\")\n",
    "    if '' in path:\n",
    "        path.remove('')\n",
    "    if path is not None and len(path)>7:\n",
    "        folder = path[7]\n",
    "        if folder == '.git':\n",
    "            continue\n",
    "        posts = walk_path + folder + '/posts.csv'\n",
    "        posts_df = pd.read_csv(posts,sep = ',')\n",
    "        user = walk_path + folder + '/user.csv'\n",
    "        user_df = pd.read_csv(user,sep = ',')\n",
    "\n",
    "        if len(posts_df) !=  0:\n",
    "            posts_df.loc[0:, \"posts\"] = user_df[\"posts\"].values[0]\n",
    "            posts_df.loc[0:, \"followers\"] = user_df[\"followers\"].values[0]\n",
    "            posts_df.loc[0:, \"followings\"] = user_df[\"followings\"].values[0]\n",
    "            posts_df.loc[0:, \"description\"] = user_df[\"description\"].values[0]\n",
    "            posts_df.loc[0:, \"username\"] = user_df[\"username\"].values[0]\n",
    "        posts_df.head()\n",
    "        df_list.append(posts_df)\n",
    "df = pd.concat(df_list)\n",
    "\n",
    "df.to_csv(current_path+'/dataset.csv')"
   ]
  },
  {
   "cell_type": "code",
   "execution_count": 8,
   "id": "c2aa662e",
   "metadata": {},
   "outputs": [
    {
     "name": "stdout",
     "output_type": "stream",
     "text": [
      "d:/Users/martin/Desktop/repos/social-media-analytics/\n"
     ]
    }
   ],
   "source": [
    "\n",
    "def extract_emojis(s):\n",
    "  return ''.join(c for c in s if c in emoji.UNICODE_EMOJI['en'])\n",
    "\n",
    "current_path = os.getcwd().replace(\"\\\\\", \"/\") + \"/\"\n",
    "print(current_path)\n",
    "df = pd.read_csv(current_path + \"dataset.csv\",sep = ',')\n",
    "\n",
    "\n",
    "df[\"emojis\"] = df[\"caption\"].map(lambda x:  extract_emojis(str(x)) if x is not None else None)\n",
    "df.to_csv(current_path+'/dataset.csv')\n"
   ]
  },
  {
   "cell_type": "code",
   "execution_count": null,
   "id": "f30f9247",
   "metadata": {},
   "outputs": [],
   "source": []
  }
 ],
 "metadata": {
  "kernelspec": {
   "display_name": "Python 3 (ipykernel)",
   "language": "python",
   "name": "python3"
  },
  "language_info": {
   "codemirror_mode": {
    "name": "ipython",
    "version": 3
   },
   "file_extension": ".py",
   "mimetype": "text/x-python",
   "name": "python",
   "nbconvert_exporter": "python",
   "pygments_lexer": "ipython3",
   "version": "3.9.7"
  }
 },
 "nbformat": 4,
 "nbformat_minor": 5
}
